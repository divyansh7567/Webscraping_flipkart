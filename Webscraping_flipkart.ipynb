{
 "cells": [
  {
   "cell_type": "code",
   "execution_count": 3,
   "metadata": {},
   "outputs": [],
   "source": [
    "import requests\n",
    "from bs4 import BeautifulSoup\n"
   ]
  },
  {
   "cell_type": "code",
   "execution_count": null,
   "metadata": {},
   "outputs": [],
   "source": [
    "def scrape_flipkart(search_query):\n",
    "    base_url = \"https://www.flipkart.com/search?q=\"\n",
    "    search_url = base_url + search_query.replace(\" \", \"%20\")\n",
    "\n",
    "    headers = {\n",
    "        \"User-Agent\": \"Mozilla/5.0 (Windows NT 10.0; Win64; x64) AppleWebKit/537.36 (KHTML, like Gecko) Chrome/114.0.0.0 Safari/537.36\"\n",
    "    }\n",
    "\n",
    "    response = requests.get(search_url, headers=headers)\n",
    "\n",
    "    if response.status_code != 200:\n",
    "        print(\"Failed to retrieve data. Status code:\", response.status_code)\n",
    "        return []\n",
    "\n",
    "    soup = BeautifulSoup(response.content, 'html.parser')\n",
    "\n",
    "    products = []\n",
    "\n",
    "    product_containers = soup.find_all(\"div\", class_=\"_1AtVbE\")\n",
    "\n",
    "    for container in product_containers:\n",
    "        try:\n",
    "            name = container.find(\"div\", class_=\"_4rR01T\").text\n",
    "            price = container.find(\"div\", class_=\"_30jeq3 _1_WHN1\").text\n",
    "            rating = container.find(\"div\", class_=\"_3LWZlK\").text if container.find(\"div\", class_=\"_3LWZlK\") else \"No Rating\"\n",
    "\n",
    "            products.append({\n",
    "                \"Name\": name,\n",
    "                \"Price\": price,\n",
    "                \"Rating\": rating,\n",
    "            })\n",
    "        except AttributeError:\n",
    "            continue\n",
    "\n",
    "    return products"
   ]
  },
  {
   "cell_type": "code",
   "execution_count": null,
   "metadata": {},
   "outputs": [],
   "source": [
    "if __name__ == \"__main__\":\n",
    "    query = input(\"Enter the product to search for: \")\n",
    "    results = scrape_flipkart(query)\n",
    "\n",
    "    if results:\n",
    "        print(f\"\\nFound {len(results)} products for '{query}':\\n\")\n",
    "        for i, product in enumerate(results, 1):\n",
    "            print(f\"{i}. Name: {product['Name']}\")\n",
    "            print(f\"   Price: {product['Price']}\")\n",
    "            print(f\"   Rating: {product['Rating']}\\n\")\n",
    "    else:\n",
    "        print(\"No products found or an error occurred.\")\n"
   ]
  }
 ],
 "metadata": {
  "kernelspec": {
   "display_name": "Python 3",
   "language": "python",
   "name": "python3"
  },
  "language_info": {
   "codemirror_mode": {
    "name": "ipython",
    "version": 3
   },
   "file_extension": ".py",
   "mimetype": "text/x-python",
   "name": "python",
   "nbconvert_exporter": "python",
   "pygments_lexer": "ipython3",
   "version": "3.11.9"
  }
 },
 "nbformat": 4,
 "nbformat_minor": 2
}
